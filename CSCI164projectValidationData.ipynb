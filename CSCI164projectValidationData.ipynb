{
 "cells": [
  {
   "cell_type": "code",
   "execution_count": 2,
   "id": "a63e006d",
   "metadata": {},
   "outputs": [
    {
     "name": "stdout",
     "output_type": "stream",
     "text": [
      "1/1 [==============================] - 2s 2s/step\n",
      "Image 1: Human : Wrong\n",
      "Image 2: AI : Correct\n",
      "Image 3: AI : Correct\n",
      "Image 4: AI : Correct\n",
      "Image 5: AI : Correct\n",
      "Image 6: AI : Correct\n",
      "Image 7: AI : Correct\n",
      "Image 8: AI : Correct\n",
      "Image 9: AI : Correct\n",
      "Image 10: AI : Correct\n",
      "Image 11: Human : Correct\n",
      "Image 12: Human : Correct\n",
      "Image 13: Human : Correct\n",
      "Image 14: Human : Correct\n",
      "Image 15: AI : Wrong\n",
      "Image 16: Human : Correct\n",
      "Image 17: Human : Correct\n",
      "Image 18: Human : Correct\n",
      "Image 19: AI : Wrong\n",
      "Image 20: Human : Correct\n",
      "Total correct : 17   -   Total incorrect : 3\n"
     ]
    }
   ],
   "source": [
    "import cv2\n",
    "import tensorflow as tf\n",
    "import os\n",
    "import numpy as np\n",
    "\n",
    "CATEGORIES = [\"AI\", \"Human\"]\n",
    "\n",
    "def formatData():\n",
    "    SIZE = 450\n",
    "    data = []\n",
    "    for category in CATEGORIES:\n",
    "        folder = os.path.join(\"ValidationData\", category)\n",
    "        for img_file in os.listdir(folder):\n",
    "            img_path = os.path.join(folder, img_file)\n",
    "            img_array = cv2.imread(img_path)\n",
    "            img_array = cv2.cvtColor(img_array, cv2.COLOR_BGR2RGB)\n",
    "            new_array = cv2.resize(img_array, (SIZE, SIZE))\n",
    "            data.append(new_array)\n",
    "    return np.array(data)\n",
    "\n",
    "model = tf.keras.models.load_model(\"CSCI164projectConvNet.h5\")\n",
    "predictions = model.predict(formatData())\n",
    "\n",
    "correct_classifications = 0\n",
    "wrong_classifications = 0\n",
    "\n",
    "for i, prediction in enumerate(predictions):\n",
    "    category = CATEGORIES[round(int(prediction[0]))]\n",
    "    if (i < 10 and category == \"AI\"):\n",
    "        print(f\"Image {i+1}: {category} : Correct\")\n",
    "        correct_classifications += 1\n",
    "    elif (i < 10 and category == \"Human\"): \n",
    "        print(f\"Image {i+1}: {category} : Wrong\")\n",
    "        wrong_classifications += 1\n",
    "    elif (i >= 10 and category == \"Human\"):\n",
    "        print(f\"Image {i+1}: {category} : Correct\")\n",
    "        correct_classifications += 1\n",
    "    else:\n",
    "        print(f\"Image {i+1}: {category} : Wrong\")\n",
    "        wrong_classifications += 1\n",
    "print(f\"Total correct : {correct_classifications}   -   Total incorrect : {wrong_classifications}\")"
   ]
  },
  {
   "cell_type": "code",
   "execution_count": 4,
   "id": "29298076-617d-4aab-a9c7-a1bfc8adcc25",
   "metadata": {},
   "outputs": [
    {
     "name": "stdout",
     "output_type": "stream",
     "text": [
      "1/1 [==============================] - 0s 263ms/step\n",
      "AI\n"
     ]
    },
    {
     "name": "stderr",
     "output_type": "stream",
     "text": [
      "C:\\Users\\georg\\AppData\\Local\\Temp\\ipykernel_3936\\2263968477.py:28: DeprecationWarning: Conversion of an array with ndim > 0 to a scalar is deprecated, and will error in future. Ensure you extract a single element from your array before performing this operation. (Deprecated NumPy 1.25.)\n",
      "  print(CATEGORIES[int(prediction[0])])\n"
     ]
    }
   ],
   "source": [
    "# Individual Test\n",
    "\n",
    "import os\n",
    "import cv2\n",
    "import tensorflow as tf\n",
    "\n",
    "SIZE = 450\n",
    "dir = \"test\"\n",
    "folder = os.path.join(\"C:\\\\Users\\\\georg\\\\Datasets\\\\kaggleartdataset\\\\archive\\\\ai_art_classification\", dir)\n",
    "\n",
    "model = tf.keras.models.load_model(\"CSCI164projectConvNet.h5\")\n",
    "\n",
    "CATEGORIES = [\"AI\", \"Human\"]\n",
    "\n",
    "# Counter to keep track of the number of images processed\n",
    "counter = 0\n",
    "\n",
    "# Loop through the files in the folder\n",
    "for img_file in os.listdir(folder):\n",
    "    img_path = os.path.join(folder, img_file)\n",
    "    img_array = cv2.imread(img_path)\n",
    "    img_array = cv2.cvtColor(img_array, cv2.COLOR_BGR2RGB)\n",
    "    img_array = cv2.resize(img_array, (SIZE, SIZE))  \n",
    "        \n",
    "    # Check if the current image is the second one (index 1)\n",
    "    if counter == 3757:\n",
    "        prediction = model.predict(img_array.reshape(1, SIZE, SIZE, 3))\n",
    "        print(CATEGORIES[int(prediction[0])])\n",
    "        break\n",
    "    \n",
    "    # Increment the counter\n",
    "    counter += 1\n"
   ]
  },
  {
   "cell_type": "code",
   "execution_count": null,
   "id": "84f2c352-1799-4681-b428-92a7b471d1c9",
   "metadata": {},
   "outputs": [],
   "source": []
  }
 ],
 "metadata": {
  "kernelspec": {
   "display_name": "Python 3 (ipykernel)",
   "language": "python",
   "name": "python3"
  },
  "language_info": {
   "codemirror_mode": {
    "name": "ipython",
    "version": 3
   },
   "file_extension": ".py",
   "mimetype": "text/x-python",
   "name": "python",
   "nbconvert_exporter": "python",
   "pygments_lexer": "ipython3",
   "version": "3.9.18"
  }
 },
 "nbformat": 4,
 "nbformat_minor": 5
}
