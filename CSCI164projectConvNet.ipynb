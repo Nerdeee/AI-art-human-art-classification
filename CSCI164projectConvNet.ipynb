{
 "cells": [
  {
   "cell_type": "code",
   "execution_count": 1,
   "id": "139bbb3e-03f0-44de-963b-875ea49a2a8a",
   "metadata": {},
   "outputs": [
    {
     "name": "stdout",
     "output_type": "stream",
     "text": [
      "Epoch 1/8\n",
      "88/88 [==============================] - 739s 8s/step - loss: 3.7762 - accuracy: 0.6850 - val_loss: 0.4178 - val_accuracy: 0.8114\n",
      "Epoch 2/8\n",
      "88/88 [==============================] - 697s 8s/step - loss: 0.3482 - accuracy: 0.8521 - val_loss: 0.4167 - val_accuracy: 0.8229\n",
      "Epoch 3/8\n",
      "88/88 [==============================] - 700s 8s/step - loss: 0.2357 - accuracy: 0.9075 - val_loss: 0.4012 - val_accuracy: 0.8329\n",
      "Epoch 4/8\n",
      "88/88 [==============================] - 699s 8s/step - loss: 0.1529 - accuracy: 0.9425 - val_loss: 0.3663 - val_accuracy: 0.8371\n",
      "Epoch 5/8\n",
      "88/88 [==============================] - 698s 8s/step - loss: 0.0959 - accuracy: 0.9657 - val_loss: 0.4906 - val_accuracy: 0.8586\n",
      "Epoch 6/8\n",
      "88/88 [==============================] - 704s 8s/step - loss: 0.0652 - accuracy: 0.9814 - val_loss: 0.5827 - val_accuracy: 0.8557\n",
      "Epoch 7/8\n",
      "88/88 [==============================] - 705s 8s/step - loss: 0.0575 - accuracy: 0.9807 - val_loss: 0.7473 - val_accuracy: 0.8614\n",
      "Epoch 8/8\n",
      "88/88 [==============================] - 693s 8s/step - loss: 0.0441 - accuracy: 0.9879 - val_loss: 0.7871 - val_accuracy: 0.8529\n"
     ]
    }
   ],
   "source": [
    "import tensorflow as tf\n",
    "from tensorflow.keras.models import Sequential\n",
    "from tensorflow.keras.layers import Flatten, Dense, Dropout, Activation, Conv2D, MaxPooling2D, BatchNormalization, Reshape\n",
    "from tensorflow.keras.callbacks import TensorBoard, ModelCheckpoint\n",
    "import numpy as np\n",
    "import time\n",
    "import pickle\n",
    "import matplotlib.pyplot as plt\n",
    "\n",
    "NAME = \"AI-art-human-art-cnn-{}\".format(int(time.time()))\n",
    "\n",
    "tensorboard = TensorBoard(log_dir=\"logs/{}\".format(NAME))\n",
    "\n",
    "checkpoint_filepath = \"models/checkpoint.keras\"\n",
    "\n",
    "checkpoint_callback = ModelCheckpoint(\n",
    "    filepath=checkpoint_filepath,\n",
    "    save_weights_only=False,\n",
    "    monitor='val_loss',\n",
    "    mode='min',\n",
    "    save_best_only=True\n",
    ")\n",
    "\n",
    "X = pickle.load(open(\"X_train.pickle\", \"rb\"))\n",
    "Y = pickle.load(open(\"Y_train.pickle\", \"rb\"))\n",
    "\n",
    "X = np.array(X)\n",
    "Y = np.array(Y)\n",
    "\n",
    "first_3500_x = X[:3500]\n",
    "Y = Y[:3500]\n",
    "\n",
    "X = first_3500_x/255.0\n",
    "\n",
    "#print(X[0])\n",
    "#print(Y[:10])\n",
    "\n",
    "model = Sequential()\n",
    "model.add(Conv2D(64, (3,3), input_shape = X.shape[1:]))\n",
    "model.add(Activation(\"relu\"))\n",
    "model.add(MaxPooling2D(pool_size=(2,2)))\n",
    "model.add(Dropout(0.25))\n",
    "\n",
    "model.add(Conv2D(64, (3,3)))\n",
    "model.add(Activation(\"relu\"))\n",
    "model.add(MaxPooling2D(pool_size=(2,2)))\n",
    "model.add(Dropout(0.25))\n",
    "\n",
    "model.add(Flatten())\n",
    "model.add(Dense(64))\n",
    "model.add(Dropout(0.25))\n",
    "\n",
    "model.add(Dense(1))\n",
    "model.add(Activation('sigmoid'))\n",
    "\n",
    "model.compile(loss=\"binary_crossentropy\",\n",
    "             optimizer=\"adam\",\n",
    "             metrics=['accuracy'])\n",
    "\n",
    "model.fit(X, Y, batch_size=32, epochs=8, validation_split=0.2, callbacks=[tensorboard, checkpoint_callback])\n",
    "\n",
    "model.save(\"CSCI164projectConvNet.h5\")\n",
    "# if 64 4 doesnt work, add drop out with 16 16\n",
    "# maybe add more epochs for 64 4"
   ]
  },
  {
   "cell_type": "code",
   "execution_count": null,
   "id": "4950cb3a-2f24-4808-a365-80cdfd413077",
   "metadata": {},
   "outputs": [],
   "source": []
  }
 ],
 "metadata": {
  "kernelspec": {
   "display_name": "Python 3 (ipykernel)",
   "language": "python",
   "name": "python3"
  },
  "language_info": {
   "codemirror_mode": {
    "name": "ipython",
    "version": 3
   },
   "file_extension": ".py",
   "mimetype": "text/x-python",
   "name": "python",
   "nbconvert_exporter": "python",
   "pygments_lexer": "ipython3",
   "version": "3.9.18"
  }
 },
 "nbformat": 4,
 "nbformat_minor": 5
}
